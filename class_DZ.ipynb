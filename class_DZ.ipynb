{
 "cells": [
  {
   "cell_type": "markdown",
   "metadata": {},
   "source": [
    "# Задание 1\n",
    "\n",
    "Напишите функцию, которая возвращает название валюты (поле ‘Name’) с максимальным значением курса \n",
    "\n",
    "с помощью сервиса https://www.cbr-xml-daily.ru/daily_json.js"
   ]
  },
  {
   "cell_type": "markdown",
   "metadata": {},
   "source": [
    "# Задание 2\n",
    "Добавьте в класс Rate параметр diff (со значениями True или False), который в случае значения True в методах eur и usd будет \n",
    "\n",
    "возвращать не курс валюты, а изменение по сравнению в прошлым значением. \n",
    "\n",
    "Считайте, self.diff будет принимать значение True только при возврате значения курса. При отображении всей информации о валюте \n",
    "\n",
    "он не используется."
   ]
  },
  {
   "cell_type": "markdown",
   "metadata": {},
   "source": [
    "### Полная версия класса"
   ]
  },
  {
   "cell_type": "code",
   "execution_count": 1,
   "metadata": {},
   "outputs": [],
   "source": [
    "import requests"
   ]
  },
  {
   "cell_type": "code",
   "execution_count": 49,
   "metadata": {},
   "outputs": [],
   "source": [
    "class Rate:\n",
    "    \"\"\"\n",
    "    \n",
    "    \"\"\"\n",
    "    def __init__(self, format_='value', diff=False):\n",
    "        self.format = format_\n",
    "        self.diff = diff\n",
    "    \n",
    "    def exchange_rates(self):\n",
    "        self.r = requests.get('https://www.cbr-xml-daily.ru/daily_json.js')\n",
    "        return self.r.json()['Valute']\n",
    "    \n",
    "    def make_format(self, currency):\n",
    "        \n",
    "        response = self.exchange_rates()\n",
    "        \n",
    "        if currency in response:\n",
    "            if self.format == 'full':\n",
    "                return response[currency]\n",
    "            \n",
    "            if self.format == 'value':\n",
    "                return response[currency]['Value']\n",
    "        \n",
    "        return 'Error'\n",
    "    \n",
    "    def search_max(self):\n",
    "        \"\"\"Ищет название валюты с максимальным курсом и выводит на экран\"\"\"\n",
    "        \n",
    "        response = self.exchange_rates()\n",
    "        kod = 0\n",
    "\n",
    "        for el in response:\n",
    "            max_ = response[el]['Value']/response[el]['Nominal']\n",
    "            break\n",
    "\n",
    "        for el in response: \n",
    "    \n",
    "            if response[el]['Value']/response[el]['Nominal'] > max_:\n",
    "                max_ = response[el]['Value']/response[el]['Nominal']\n",
    "                kod = el\n",
    "\n",
    "        print('Валюта с максимальным значением курса: ' + response[kod]['Name'] + ' - ' + str(response[kod]['Value']))\n",
    "   \n",
    "    \n",
    "    \n",
    "    def eur(self):\n",
    "        \n",
    "        if self.diff == True:\n",
    "            response = self.exchange_rates()\n",
    "            difference = round(response['EUR']['Value'] - response['EUR']['Previous'],3)\n",
    "            \n",
    "            if difference > 0:\n",
    "                print('Курс вырос на:' + str(difference))\n",
    "            else:\n",
    "                print('Курс упал на:' + str(abs(difference)))\n",
    "            \n",
    "            \n",
    "        else:\n",
    "            return self.make_format('EUR')\n",
    "    \n",
    "    def usd(self):\n",
    "        \n",
    "        if self.diff == True:\n",
    "            response = self.exchange_rates()\n",
    "            difference = round(response['USD']['Value'] - response['USD']['Previous'],3)\n",
    "            \n",
    "            if difference > 0:\n",
    "                print('Курс вырос на:' + str(difference))\n",
    "            else:\n",
    "                print('Курс упал на:' + str(abs(difference)))\n",
    "            \n",
    "            \n",
    "        else:      \n",
    "            return self.make_format('USD')\n",
    "            \n",
    "    \n",
    "    def brl(self):\n",
    "        \"\"\"Возвращает курс бразильского реала на сегодня в формате self.format\"\"\"\n",
    "        return self.make_format('BRL')"
   ]
  },
  {
   "cell_type": "code",
   "execution_count": 50,
   "metadata": {},
   "outputs": [],
   "source": [
    "r = Rate(diff=True)"
   ]
  },
  {
   "cell_type": "code",
   "execution_count": 53,
   "metadata": {},
   "outputs": [
    {
     "name": "stdout",
     "output_type": "stream",
     "text": [
      "Валюта с максимальным значением курса: СДР (специальные права заимствования) - 101.5738\n"
     ]
    }
   ],
   "source": [
    "r.search_max()"
   ]
  },
  {
   "cell_type": "code",
   "execution_count": 51,
   "metadata": {},
   "outputs": [
    {
     "name": "stdout",
     "output_type": "stream",
     "text": [
      "Курс опустился на:0.894\n"
     ]
    }
   ],
   "source": [
    "r.eur()"
   ]
  },
  {
   "cell_type": "code",
   "execution_count": 52,
   "metadata": {},
   "outputs": [
    {
     "name": "stdout",
     "output_type": "stream",
     "text": [
      "Курс опустился на:0.413\n"
     ]
    }
   ],
   "source": [
    "r.usd()"
   ]
  },
  {
   "cell_type": "markdown",
   "metadata": {},
   "source": [
    "# Задание 3\n",
    "\n",
    "Напишите класс Designer, который учитывает количество международных премий для дизайнеров (из презентации: \"Повышение на 1 грейд за каждые 7 баллов. Получение международной премии – это +2 балла\"). Считайте, что при выходе на работу сотрудник уже имеет две премии и их количество не меняется со стажем (конечно если хотите это можно вручную менять). Выполните проверку для 20 аккредитаций дизайнера Елены.\n",
    "\n",
    "Для проверки используйте код:"
   ]
  },
  {
   "cell_type": "markdown",
   "metadata": {},
   "source": [
    "# Система повышения сотрудников\n",
    "Пригодится для домашнего задания"
   ]
  },
  {
   "cell_type": "code",
   "execution_count": 54,
   "metadata": {},
   "outputs": [],
   "source": [
    "class Employee:\n",
    "    def __init__(self, name, seniority):\n",
    "        self.name = name\n",
    "        self.seniority = seniority\n",
    "\n",
    "    def grade_up(self):\n",
    "        \"\"\"Повышает уровень сотрудника\"\"\"\n",
    "        self.grade += 1\n",
    "    \n",
    "    def publish_grade(self):\n",
    "        \"\"\"Публикация результатов аккредитации сотрудников\"\"\"\n",
    "        print(self.name, self.grade)\n",
    "    \n",
    "    def check_if_it_is_time_for_upgrade(self):\n",
    "        pass"
   ]
  },
  {
   "cell_type": "code",
   "execution_count": 55,
   "metadata": {},
   "outputs": [],
   "source": [
    "class Designer(Employee):\n",
    "    def __init__(self, name, seniority, awards):\n",
    "        super().__init__(name, seniority)\n",
    "        \n",
    "        self.awards = awards \n",
    "            \n",
    "        if awards > 0:\n",
    "            self.grade = 1 + awards*2\n",
    "        else:\n",
    "             self.grade = 1\n",
    "    \n",
    "    \n",
    "    def check_if_it_is_time_for_upgrade(self):\n",
    "        # для каждой аккредитации увеличиваем счетчик на 1\n",
    "        # пока считаем, что все дизайнеры проходят аккредитацию\n",
    "        self.seniority += 1\n",
    "        \n",
    "        # условие повышения сотрудника из презентации\n",
    "        if self.seniority % 7 == 0:\n",
    "            self.grade_up()\n",
    "        \n",
    "        # публикация результатов\n",
    "        return self.publish_grade()"
   ]
  },
  {
   "cell_type": "code",
   "execution_count": 56,
   "metadata": {},
   "outputs": [],
   "source": [
    "elena = Designer('Елена', seniority=0, awards=2)"
   ]
  },
  {
   "cell_type": "code",
   "execution_count": 61,
   "metadata": {},
   "outputs": [
    {
     "name": "stdout",
     "output_type": "stream",
     "text": [
      "Елена 16\n",
      "Елена 16\n",
      "Елена 16\n",
      "Елена 17\n",
      "Елена 17\n",
      "Елена 17\n",
      "Елена 17\n",
      "Елена 17\n",
      "Елена 17\n",
      "Елена 17\n",
      "Елена 18\n",
      "Елена 18\n",
      "Елена 18\n",
      "Елена 18\n",
      "Елена 18\n",
      "Елена 18\n",
      "Елена 18\n",
      "Елена 19\n",
      "Елена 19\n",
      "Елена 19\n"
     ]
    }
   ],
   "source": [
    "for i in range(20):\n",
    "    elena.check_if_it_is_time_for_upgrade()"
   ]
  },
  {
   "cell_type": "code",
   "execution_count": null,
   "metadata": {},
   "outputs": [],
   "source": []
  }
 ],
 "metadata": {
  "kernelspec": {
   "display_name": "Python 3",
   "language": "python",
   "name": "python3"
  },
  "language_info": {
   "codemirror_mode": {
    "name": "ipython",
    "version": 3
   },
   "file_extension": ".py",
   "mimetype": "text/x-python",
   "name": "python",
   "nbconvert_exporter": "python",
   "pygments_lexer": "ipython3",
   "version": "3.7.4"
  }
 },
 "nbformat": 4,
 "nbformat_minor": 2
}
